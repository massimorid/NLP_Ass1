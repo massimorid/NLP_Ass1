import unittest
from collections import defaultdict
import your_script as nlp  # Replace 'your_script' with the actual script name

# Convert tests to Jupyter Notebook format
def run_tests():
    class TestNLPFunctions(unittest.TestCase):
        def setUp(self):
            self.bigram_probs = {('to',): {'be': 0.5, 'not': 0.5}, ('be',): {'or': 1.0}}
            self.trigram_counts = {('to', 'be'): {'or': 1, 'not': 1}}
            self.trigram_probs = {('to', 'be'): {'or': 0.5, 'not': 0.5}}
            self.quadgram_counts = {('to', 'be', 'or'): {'not': 1}}
            self.quadgram_probs = {('to', 'be', 'or'): {'not': 1.0}}
        
        def test_sample_next_token(self):
            token = nlp.sample_next_token(self.bigram_probs, ('to',))
            self.assertIn(token, ['be', 'not'])
        
        def test_generate_text_from_bigram(self):
            text = nlp.generate_text_from_bigram(self.bigram_probs, 'to', 5)
            self.assertIsInstance(text, str)
            self.assertGreater(len(text.split()), 1)
        
        def test_from_trigram_to_next_token_counts(self):
            counts = nlp.from_trigram_to_next_token_counts(self.trigram_counts)
            self.assertEqual(counts, self.trigram_counts)
        
        def test_from_trigram_to_next_token_probs(self):
            probs = nlp.from_trigram_to_next_token_probs(self.trigram_counts)
            self.assertEqual(probs, self.trigram_probs)
        
        def test_from_quadgram_to_next_token_counts(self):
            counts = nlp.from_quadgram_to_next_token_counts(self.quadgram_counts)
            self.assertEqual(counts, self.quadgram_counts)
        
        def test_from_quadgram_to_next_token_probs(self):
            probs = nlp.from_quadgram_to_next_token_probs(self.quadgram_counts)
            self.assertEqual(probs, self.quadgram_probs)
        
        def test_sample_next_token_from_trigram(self):
            token = nlp.sample_next_token_from_trigram(self.trigram_probs, ('to', 'be'))
            self.assertIn(token, ['or', 'not'])
        
        def test_sample_next_token_from_quadgram(self):
            token = nlp.sample_next_token_from_quadgram(self.quadgram_probs, ('to', 'be', 'or'))
            self.assertEqual(token, 'not')
        
        def test_generate_text_from_trigram(self):
            text = nlp.generate_text_from_trigram(self.trigram_probs, 'to', 5)
            self.assertIsInstance(text, str)
            self.assertGreater(len(text.split()), 1)
        
        def test_generate_text_from_quadgram(self):
            text = nlp.generate_text_from_quadgram(self.quadgram_probs, 'to', 5)
            self.assertIsInstance(text, str)
            self.assertGreater(len(text.split()), 1)
    
    suite = unittest.TestLoader().loadTestsFromTestCase(TestNLPFunctions)
    unittest.TextTestRunner().run(suite)

# Run the tests in the Jupyter Notebook
run_tests()
